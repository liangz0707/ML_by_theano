{
 "cells": [
  {
   "cell_type": "code",
   "execution_count": 1,
   "metadata": {
    "collapsed": true
   },
   "outputs": [],
   "source": [
    "import numpy\n",
    "\n",
    "import theano\n",
    "import theano.tensor as T\n",
    "import os"
   ]
  },
  {
   "cell_type": "code",
   "execution_count": 25,
   "metadata": {
    "collapsed": true
   },
   "outputs": [],
   "source": [
    "def f(b,c):\n",
    "    return b+1,3*b,4*c"
   ]
  },
  {
   "cell_type": "code",
   "execution_count": 26,
   "metadata": {
    "collapsed": false
   },
   "outputs": [],
   "source": [
    "a=T.scalar()\n",
    "b=T.scalar()\n",
    "c=T.scalar()\n",
    "[a0,b0,c0],updates = theano.scan(\n",
    "    f,\n",
    "    outputs_info=[None, b, c],\n",
    "    n_steps=7\n",
    ")\n",
    "xx = theano.function([b,c],[a0,b0,c0])"
   ]
  },
  {
   "cell_type": "code",
   "execution_count": 27,
   "metadata": {
    "collapsed": false
   },
   "outputs": [
    {
     "data": {
      "text/plain": [
       "[array([  3.00000000e+00,   1.30000000e+01,   2.50000000e+01,\n",
       "          1.45000000e+02,   2.89000000e+02,   1.72900000e+03,\n",
       "          3.45700000e+03]),\n",
       " array([  6.00000000e+00,   3.60000000e+01,   7.20000000e+01,\n",
       "          4.32000000e+02,   8.64000000e+02,   5.18400000e+03,\n",
       "          1.03680000e+04]),\n",
       " array([  1.20000000e+01,   2.40000000e+01,   1.44000000e+02,\n",
       "          2.88000000e+02,   1.72800000e+03,   3.45600000e+03,\n",
       "          2.07360000e+04])]"
      ]
     },
     "execution_count": 27,
     "metadata": {},
     "output_type": "execute_result"
    }
   ],
   "source": [
    "xx(2,3)"
   ]
  },
  {
   "cell_type": "code",
   "execution_count": 10,
   "metadata": {
    "collapsed": false
   },
   "outputs": [
    {
     "data": {
      "text/plain": [
       "OrderedUpdates()"
      ]
     },
     "execution_count": 10,
     "metadata": {},
     "output_type": "execute_result"
    }
   ],
   "source": [
    "updates"
   ]
  },
  {
   "cell_type": "code",
   "execution_count": null,
   "metadata": {
    "collapsed": true
   },
   "outputs": [],
   "source": []
  }
 ],
 "metadata": {
  "kernelspec": {
   "display_name": "Python 2",
   "language": "python",
   "name": "python2"
  },
  "language_info": {
   "codemirror_mode": {
    "name": "ipython",
    "version": 2
   },
   "file_extension": ".py",
   "mimetype": "text/x-python",
   "name": "python",
   "nbconvert_exporter": "python",
   "pygments_lexer": "ipython2",
   "version": "2.7.10"
  }
 },
 "nbformat": 4,
 "nbformat_minor": 0
}
